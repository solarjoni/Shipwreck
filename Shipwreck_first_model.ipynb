{
  "nbformat": 4,
  "nbformat_minor": 0,
  "metadata": {
    "colab": {
      "name": "Shipwreck_first_model.ipynb",
      "provenance": [],
      "collapsed_sections": [
        "RSXo1_3ZupSs"
      ],
      "authorship_tag": "ABX9TyMCEhdEpmHTYxu2zNFIkgtG",
      "include_colab_link": true
    },
    "kernelspec": {
      "name": "python3",
      "display_name": "Python 3"
    },
    "language_info": {
      "name": "python"
    }
  },
  "cells": [
    {
      "cell_type": "markdown",
      "metadata": {
        "id": "view-in-github",
        "colab_type": "text"
      },
      "source": [
        "<a href=\"https://colab.research.google.com/github/solarjoni/Shipwreck/blob/main/Shipwreck_first_model.ipynb\" target=\"_parent\"><img src=\"https://colab.research.google.com/assets/colab-badge.svg\" alt=\"Open In Colab\"/></a>"
      ]
    },
    {
      "cell_type": "markdown",
      "metadata": {
        "id": "RSXo1_3ZupSs"
      },
      "source": [
        "## Setting things up\n",
        "Download m2_data_csv\n",
        "https://cdn.techroulette.xyz/projects/shipwreck/data/m2_data.csv"
      ]
    },
    {
      "cell_type": "markdown",
      "metadata": {
        "id": "0-vFAB8Kvb_v"
      },
      "source": [
        "## Understanding the data set\n",
        "\n",
        "Open downloaded file and inspect it\n",
        "\n"
      ]
    },
    {
      "cell_type": "markdown",
      "metadata": {
        "id": "ZY8iBpe-vcBG"
      },
      "source": [
        "## Prep program"
      ]
    },
    {
      "cell_type": "code",
      "metadata": {
        "id": "yERHKxDWxxcr"
      },
      "source": [
        "from sklearn.model_selection import train_test_split\n",
        "import tensorflow as tf\n",
        "import pandas as pd"
      ],
      "execution_count": 21,
      "outputs": []
    },
    {
      "cell_type": "markdown",
      "metadata": {
        "id": "6-i_9sd0v12n"
      },
      "source": [
        "## Load and pre-process the data"
      ]
    },
    {
      "cell_type": "code",
      "metadata": {
        "colab": {
          "base_uri": "https://localhost:8080/",
          "height": 206
        },
        "id": "tZXbuitvyEtL",
        "outputId": "d8a2153c-dcfe-4337-a142-5d372acef640"
      },
      "source": [
        "df = pd.read_csv('https://cdn.techroulette.xyz/projects/shipwreck/data/m2_data.csv')\n",
        "df = df.drop(['First Name', 'Last Name', 'Height (in inches)', 'Zip Code', 'Potluck Dish'], axis=1)\n",
        "df = df.replace({'No':0, 'Yes':1})\n",
        "df.head()"
      ],
      "execution_count": 22,
      "outputs": [
        {
          "output_type": "execute_result",
          "data": {
            "text/html": [
              "<div>\n",
              "<style scoped>\n",
              "    .dataframe tbody tr th:only-of-type {\n",
              "        vertical-align: middle;\n",
              "    }\n",
              "\n",
              "    .dataframe tbody tr th {\n",
              "        vertical-align: top;\n",
              "    }\n",
              "\n",
              "    .dataframe thead th {\n",
              "        text-align: right;\n",
              "    }\n",
              "</style>\n",
              "<table border=\"1\" class=\"dataframe\">\n",
              "  <thead>\n",
              "    <tr style=\"text-align: right;\">\n",
              "      <th></th>\n",
              "      <th>Age</th>\n",
              "      <th>RSVPed Yes?</th>\n",
              "      <th>Rating of rhubarb pie</th>\n",
              "      <th>Purchased a rhubarb pie?</th>\n",
              "    </tr>\n",
              "  </thead>\n",
              "  <tbody>\n",
              "    <tr>\n",
              "      <th>0</th>\n",
              "      <td>96</td>\n",
              "      <td>1</td>\n",
              "      <td>7</td>\n",
              "      <td>1</td>\n",
              "    </tr>\n",
              "    <tr>\n",
              "      <th>1</th>\n",
              "      <td>57</td>\n",
              "      <td>1</td>\n",
              "      <td>7</td>\n",
              "      <td>0</td>\n",
              "    </tr>\n",
              "    <tr>\n",
              "      <th>2</th>\n",
              "      <td>41</td>\n",
              "      <td>0</td>\n",
              "      <td>9</td>\n",
              "      <td>0</td>\n",
              "    </tr>\n",
              "    <tr>\n",
              "      <th>3</th>\n",
              "      <td>19</td>\n",
              "      <td>0</td>\n",
              "      <td>3</td>\n",
              "      <td>0</td>\n",
              "    </tr>\n",
              "    <tr>\n",
              "      <th>4</th>\n",
              "      <td>78</td>\n",
              "      <td>0</td>\n",
              "      <td>7</td>\n",
              "      <td>1</td>\n",
              "    </tr>\n",
              "  </tbody>\n",
              "</table>\n",
              "</div>"
            ],
            "text/plain": [
              "   Age  RSVPed Yes?  Rating of rhubarb pie  Purchased a rhubarb pie?\n",
              "0   96            1                      7                         1\n",
              "1   57            1                      7                         0\n",
              "2   41            0                      9                         0\n",
              "3   19            0                      3                         0\n",
              "4   78            0                      7                         1"
            ]
          },
          "metadata": {
            "tags": []
          },
          "execution_count": 22
        }
      ]
    },
    {
      "cell_type": "markdown",
      "metadata": {
        "id": "lE5irGDrwAuI"
      },
      "source": [
        "## Create training and testing sets\n",
        "\n",
        "\n"
      ]
    },
    {
      "cell_type": "code",
      "metadata": {
        "id": "oc7gSAma2Uy4"
      },
      "source": [
        "y = df.pop('Purchased a rhubarb pie?')\n",
        "X = df\n",
        "X_train, X_test, y_train, y_test = train_test_split(X, y, test_size=0.3)"
      ],
      "execution_count": 23,
      "outputs": []
    },
    {
      "cell_type": "markdown",
      "metadata": {
        "id": "OPjI5kfewIUY"
      },
      "source": [
        "## Define the model"
      ]
    },
    {
      "cell_type": "code",
      "metadata": {
        "id": "8-_TjSd62_cU"
      },
      "source": [
        "model = tf.keras.models.Sequential()\n",
        "model.add(tf.keras.layers.Dense(10, input_shape=(3,), activation=\"relu\"))\n",
        "model.add(tf.keras.layers.Dense(1, activation=\"sigmoid\"))"
      ],
      "execution_count": 24,
      "outputs": []
    },
    {
      "cell_type": "markdown",
      "metadata": {
        "id": "-4nP-hd8wPsQ"
      },
      "source": [
        "## Train the model"
      ]
    },
    {
      "cell_type": "code",
      "metadata": {
        "colab": {
          "base_uri": "https://localhost:8080/"
        },
        "id": "6wPSiuq74oJs",
        "outputId": "d7c2f27e-9007-4674-b48c-5a4285e29757"
      },
      "source": [
        "model.compile(optimizer=\"adam\", loss=\"binary_crossentropy\", metrics=[\"accuracy\"])\n",
        "model.fit(X_train, y_train, epochs=100)"
      ],
      "execution_count": 27,
      "outputs": [
        {
          "output_type": "stream",
          "text": [
            "Epoch 1/100\n",
            "11/11 [==============================] - 0s 2ms/step - loss: 0.5762 - accuracy: 0.6886\n",
            "Epoch 2/100\n",
            "11/11 [==============================] - 0s 2ms/step - loss: 0.5730 - accuracy: 0.6886\n",
            "Epoch 3/100\n",
            "11/11 [==============================] - 0s 2ms/step - loss: 0.5726 - accuracy: 0.7000\n",
            "Epoch 4/100\n",
            "11/11 [==============================] - 0s 2ms/step - loss: 0.5709 - accuracy: 0.6943\n",
            "Epoch 5/100\n",
            "11/11 [==============================] - 0s 2ms/step - loss: 0.5708 - accuracy: 0.6943\n",
            "Epoch 6/100\n",
            "11/11 [==============================] - 0s 2ms/step - loss: 0.5693 - accuracy: 0.6886\n",
            "Epoch 7/100\n",
            "11/11 [==============================] - 0s 2ms/step - loss: 0.5684 - accuracy: 0.6886\n",
            "Epoch 8/100\n",
            "11/11 [==============================] - 0s 2ms/step - loss: 0.5672 - accuracy: 0.7000\n",
            "Epoch 9/100\n",
            "11/11 [==============================] - 0s 2ms/step - loss: 0.5696 - accuracy: 0.6857\n",
            "Epoch 10/100\n",
            "11/11 [==============================] - 0s 1ms/step - loss: 0.5656 - accuracy: 0.6943\n",
            "Epoch 11/100\n",
            "11/11 [==============================] - 0s 2ms/step - loss: 0.5656 - accuracy: 0.7000\n",
            "Epoch 12/100\n",
            "11/11 [==============================] - 0s 2ms/step - loss: 0.5648 - accuracy: 0.7057\n",
            "Epoch 13/100\n",
            "11/11 [==============================] - 0s 2ms/step - loss: 0.5638 - accuracy: 0.7086\n",
            "Epoch 14/100\n",
            "11/11 [==============================] - 0s 2ms/step - loss: 0.5635 - accuracy: 0.7029\n",
            "Epoch 15/100\n",
            "11/11 [==============================] - 0s 2ms/step - loss: 0.5623 - accuracy: 0.7086\n",
            "Epoch 16/100\n",
            "11/11 [==============================] - 0s 2ms/step - loss: 0.5621 - accuracy: 0.7029\n",
            "Epoch 17/100\n",
            "11/11 [==============================] - 0s 2ms/step - loss: 0.5629 - accuracy: 0.7000\n",
            "Epoch 18/100\n",
            "11/11 [==============================] - 0s 2ms/step - loss: 0.5612 - accuracy: 0.7200\n",
            "Epoch 19/100\n",
            "11/11 [==============================] - 0s 2ms/step - loss: 0.5600 - accuracy: 0.7171\n",
            "Epoch 20/100\n",
            "11/11 [==============================] - 0s 2ms/step - loss: 0.5597 - accuracy: 0.7000\n",
            "Epoch 21/100\n",
            "11/11 [==============================] - 0s 2ms/step - loss: 0.5593 - accuracy: 0.7114\n",
            "Epoch 22/100\n",
            "11/11 [==============================] - 0s 3ms/step - loss: 0.5584 - accuracy: 0.7171\n",
            "Epoch 23/100\n",
            "11/11 [==============================] - 0s 2ms/step - loss: 0.5576 - accuracy: 0.7257\n",
            "Epoch 24/100\n",
            "11/11 [==============================] - 0s 2ms/step - loss: 0.5567 - accuracy: 0.7143\n",
            "Epoch 25/100\n",
            "11/11 [==============================] - 0s 2ms/step - loss: 0.5566 - accuracy: 0.7143\n",
            "Epoch 26/100\n",
            "11/11 [==============================] - 0s 2ms/step - loss: 0.5557 - accuracy: 0.7171\n",
            "Epoch 27/100\n",
            "11/11 [==============================] - 0s 2ms/step - loss: 0.5558 - accuracy: 0.7171\n",
            "Epoch 28/100\n",
            "11/11 [==============================] - 0s 2ms/step - loss: 0.5548 - accuracy: 0.7200\n",
            "Epoch 29/100\n",
            "11/11 [==============================] - 0s 2ms/step - loss: 0.5544 - accuracy: 0.7229\n",
            "Epoch 30/100\n",
            "11/11 [==============================] - 0s 2ms/step - loss: 0.5538 - accuracy: 0.7171\n",
            "Epoch 31/100\n",
            "11/11 [==============================] - 0s 2ms/step - loss: 0.5535 - accuracy: 0.7171\n",
            "Epoch 32/100\n",
            "11/11 [==============================] - 0s 2ms/step - loss: 0.5536 - accuracy: 0.7200\n",
            "Epoch 33/100\n",
            "11/11 [==============================] - 0s 2ms/step - loss: 0.5542 - accuracy: 0.7314\n",
            "Epoch 34/100\n",
            "11/11 [==============================] - 0s 2ms/step - loss: 0.5537 - accuracy: 0.7114\n",
            "Epoch 35/100\n",
            "11/11 [==============================] - 0s 2ms/step - loss: 0.5523 - accuracy: 0.7286\n",
            "Epoch 36/100\n",
            "11/11 [==============================] - 0s 3ms/step - loss: 0.5505 - accuracy: 0.7286\n",
            "Epoch 37/100\n",
            "11/11 [==============================] - 0s 2ms/step - loss: 0.5522 - accuracy: 0.7200\n",
            "Epoch 38/100\n",
            "11/11 [==============================] - 0s 2ms/step - loss: 0.5531 - accuracy: 0.7200\n",
            "Epoch 39/100\n",
            "11/11 [==============================] - 0s 2ms/step - loss: 0.5513 - accuracy: 0.7171\n",
            "Epoch 40/100\n",
            "11/11 [==============================] - 0s 2ms/step - loss: 0.5497 - accuracy: 0.7286\n",
            "Epoch 41/100\n",
            "11/11 [==============================] - 0s 2ms/step - loss: 0.5485 - accuracy: 0.7229\n",
            "Epoch 42/100\n",
            "11/11 [==============================] - 0s 2ms/step - loss: 0.5499 - accuracy: 0.7286\n",
            "Epoch 43/100\n",
            "11/11 [==============================] - 0s 2ms/step - loss: 0.5522 - accuracy: 0.7057\n",
            "Epoch 44/100\n",
            "11/11 [==============================] - 0s 2ms/step - loss: 0.5490 - accuracy: 0.7229\n",
            "Epoch 45/100\n",
            "11/11 [==============================] - 0s 2ms/step - loss: 0.5501 - accuracy: 0.7171\n",
            "Epoch 46/100\n",
            "11/11 [==============================] - 0s 2ms/step - loss: 0.5470 - accuracy: 0.7200\n",
            "Epoch 47/100\n",
            "11/11 [==============================] - 0s 2ms/step - loss: 0.5465 - accuracy: 0.7200\n",
            "Epoch 48/100\n",
            "11/11 [==============================] - 0s 2ms/step - loss: 0.5455 - accuracy: 0.7286\n",
            "Epoch 49/100\n",
            "11/11 [==============================] - 0s 2ms/step - loss: 0.5453 - accuracy: 0.7286\n",
            "Epoch 50/100\n",
            "11/11 [==============================] - 0s 3ms/step - loss: 0.5455 - accuracy: 0.7229\n",
            "Epoch 51/100\n",
            "11/11 [==============================] - 0s 2ms/step - loss: 0.5444 - accuracy: 0.7257\n",
            "Epoch 52/100\n",
            "11/11 [==============================] - 0s 2ms/step - loss: 0.5441 - accuracy: 0.7257\n",
            "Epoch 53/100\n",
            "11/11 [==============================] - 0s 2ms/step - loss: 0.5436 - accuracy: 0.7229\n",
            "Epoch 54/100\n",
            "11/11 [==============================] - 0s 2ms/step - loss: 0.5431 - accuracy: 0.7229\n",
            "Epoch 55/100\n",
            "11/11 [==============================] - 0s 2ms/step - loss: 0.5430 - accuracy: 0.7229\n",
            "Epoch 56/100\n",
            "11/11 [==============================] - 0s 2ms/step - loss: 0.5426 - accuracy: 0.7314\n",
            "Epoch 57/100\n",
            "11/11 [==============================] - 0s 2ms/step - loss: 0.5426 - accuracy: 0.7229\n",
            "Epoch 58/100\n",
            "11/11 [==============================] - 0s 3ms/step - loss: 0.5422 - accuracy: 0.7314\n",
            "Epoch 59/100\n",
            "11/11 [==============================] - 0s 2ms/step - loss: 0.5418 - accuracy: 0.7314\n",
            "Epoch 60/100\n",
            "11/11 [==============================] - 0s 2ms/step - loss: 0.5414 - accuracy: 0.7286\n",
            "Epoch 61/100\n",
            "11/11 [==============================] - 0s 3ms/step - loss: 0.5407 - accuracy: 0.7314\n",
            "Epoch 62/100\n",
            "11/11 [==============================] - 0s 2ms/step - loss: 0.5403 - accuracy: 0.7286\n",
            "Epoch 63/100\n",
            "11/11 [==============================] - 0s 2ms/step - loss: 0.5400 - accuracy: 0.7343\n",
            "Epoch 64/100\n",
            "11/11 [==============================] - 0s 2ms/step - loss: 0.5394 - accuracy: 0.7343\n",
            "Epoch 65/100\n",
            "11/11 [==============================] - 0s 2ms/step - loss: 0.5405 - accuracy: 0.7257\n",
            "Epoch 66/100\n",
            "11/11 [==============================] - 0s 2ms/step - loss: 0.5396 - accuracy: 0.7286\n",
            "Epoch 67/100\n",
            "11/11 [==============================] - 0s 2ms/step - loss: 0.5384 - accuracy: 0.7286\n",
            "Epoch 68/100\n",
            "11/11 [==============================] - 0s 2ms/step - loss: 0.5400 - accuracy: 0.7171\n",
            "Epoch 69/100\n",
            "11/11 [==============================] - 0s 2ms/step - loss: 0.5406 - accuracy: 0.7229\n",
            "Epoch 70/100\n",
            "11/11 [==============================] - 0s 2ms/step - loss: 0.5374 - accuracy: 0.7286\n",
            "Epoch 71/100\n",
            "11/11 [==============================] - 0s 3ms/step - loss: 0.5376 - accuracy: 0.7200\n",
            "Epoch 72/100\n",
            "11/11 [==============================] - 0s 2ms/step - loss: 0.5371 - accuracy: 0.7229\n",
            "Epoch 73/100\n",
            "11/11 [==============================] - 0s 2ms/step - loss: 0.5374 - accuracy: 0.7343\n",
            "Epoch 74/100\n",
            "11/11 [==============================] - 0s 2ms/step - loss: 0.5366 - accuracy: 0.7257\n",
            "Epoch 75/100\n",
            "11/11 [==============================] - 0s 2ms/step - loss: 0.5363 - accuracy: 0.7200\n",
            "Epoch 76/100\n",
            "11/11 [==============================] - 0s 2ms/step - loss: 0.5366 - accuracy: 0.7286\n",
            "Epoch 77/100\n",
            "11/11 [==============================] - 0s 2ms/step - loss: 0.5368 - accuracy: 0.7229\n",
            "Epoch 78/100\n",
            "11/11 [==============================] - 0s 2ms/step - loss: 0.5374 - accuracy: 0.7171\n",
            "Epoch 79/100\n",
            "11/11 [==============================] - 0s 2ms/step - loss: 0.5350 - accuracy: 0.7200\n",
            "Epoch 80/100\n",
            "11/11 [==============================] - 0s 2ms/step - loss: 0.5347 - accuracy: 0.7229\n",
            "Epoch 81/100\n",
            "11/11 [==============================] - 0s 2ms/step - loss: 0.5339 - accuracy: 0.7229\n",
            "Epoch 82/100\n",
            "11/11 [==============================] - 0s 2ms/step - loss: 0.5342 - accuracy: 0.7200\n",
            "Epoch 83/100\n",
            "11/11 [==============================] - 0s 2ms/step - loss: 0.5340 - accuracy: 0.7171\n",
            "Epoch 84/100\n",
            "11/11 [==============================] - 0s 2ms/step - loss: 0.5330 - accuracy: 0.7200\n",
            "Epoch 85/100\n",
            "11/11 [==============================] - 0s 2ms/step - loss: 0.5329 - accuracy: 0.7229\n",
            "Epoch 86/100\n",
            "11/11 [==============================] - 0s 2ms/step - loss: 0.5328 - accuracy: 0.7171\n",
            "Epoch 87/100\n",
            "11/11 [==============================] - 0s 3ms/step - loss: 0.5332 - accuracy: 0.7200\n",
            "Epoch 88/100\n",
            "11/11 [==============================] - 0s 2ms/step - loss: 0.5338 - accuracy: 0.7200\n",
            "Epoch 89/100\n",
            "11/11 [==============================] - 0s 2ms/step - loss: 0.5315 - accuracy: 0.7171\n",
            "Epoch 90/100\n",
            "11/11 [==============================] - 0s 2ms/step - loss: 0.5321 - accuracy: 0.7200\n",
            "Epoch 91/100\n",
            "11/11 [==============================] - 0s 2ms/step - loss: 0.5315 - accuracy: 0.7171\n",
            "Epoch 92/100\n",
            "11/11 [==============================] - 0s 3ms/step - loss: 0.5312 - accuracy: 0.7171\n",
            "Epoch 93/100\n",
            "11/11 [==============================] - 0s 2ms/step - loss: 0.5314 - accuracy: 0.7171\n",
            "Epoch 94/100\n",
            "11/11 [==============================] - 0s 2ms/step - loss: 0.5303 - accuracy: 0.7200\n",
            "Epoch 95/100\n",
            "11/11 [==============================] - 0s 2ms/step - loss: 0.5305 - accuracy: 0.7200\n",
            "Epoch 96/100\n",
            "11/11 [==============================] - 0s 2ms/step - loss: 0.5303 - accuracy: 0.7200\n",
            "Epoch 97/100\n",
            "11/11 [==============================] - 0s 2ms/step - loss: 0.5291 - accuracy: 0.7200\n",
            "Epoch 98/100\n",
            "11/11 [==============================] - 0s 2ms/step - loss: 0.5295 - accuracy: 0.7229\n",
            "Epoch 99/100\n",
            "11/11 [==============================] - 0s 3ms/step - loss: 0.5300 - accuracy: 0.7171\n",
            "Epoch 100/100\n",
            "11/11 [==============================] - 0s 2ms/step - loss: 0.5297 - accuracy: 0.7171\n"
          ],
          "name": "stdout"
        },
        {
          "output_type": "execute_result",
          "data": {
            "text/plain": [
              "<tensorflow.python.keras.callbacks.History at 0x7fba32472690>"
            ]
          },
          "metadata": {
            "tags": []
          },
          "execution_count": 27
        }
      ]
    },
    {
      "cell_type": "markdown",
      "metadata": {
        "id": "vvZP6hl3wPuA"
      },
      "source": [
        "## Test the model"
      ]
    },
    {
      "cell_type": "code",
      "metadata": {
        "colab": {
          "base_uri": "https://localhost:8080/"
        },
        "id": "FmIVuxds5N19",
        "outputId": "fdf6278c-debb-4b34-c1d5-a3e574773767"
      },
      "source": [
        "model.evaluate(X_test, y_test, verbose=2)"
      ],
      "execution_count": 30,
      "outputs": [
        {
          "output_type": "stream",
          "text": [
            "5/5 - 0s - loss: 0.5105 - accuracy: 0.7533\n"
          ],
          "name": "stdout"
        },
        {
          "output_type": "execute_result",
          "data": {
            "text/plain": [
              "[0.5104614496231079, 0.753333330154419]"
            ]
          },
          "metadata": {
            "tags": []
          },
          "execution_count": 30
        }
      ]
    }
  ]
}