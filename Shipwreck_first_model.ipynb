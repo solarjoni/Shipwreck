{
  "nbformat": 4,
  "nbformat_minor": 0,
  "metadata": {
    "colab": {
      "name": "Shipwreck_first_model.ipynb",
      "provenance": [],
      "collapsed_sections": [
        "RSXo1_3ZupSs"
      ],
      "toc_visible": true,
      "authorship_tag": "ABX9TyNLC3mN2CM4zen7ETMjPEDF",
      "include_colab_link": true
    },
    "kernelspec": {
      "name": "python3",
      "display_name": "Python 3"
    },
    "language_info": {
      "name": "python"
    }
  },
  "cells": [
    {
      "cell_type": "markdown",
      "metadata": {
        "id": "view-in-github",
        "colab_type": "text"
      },
      "source": [
        "<a href=\"https://colab.research.google.com/github/solarjoni/Shipwreck/blob/main/Shipwreck_first_model.ipynb\" target=\"_parent\"><img src=\"https://colab.research.google.com/assets/colab-badge.svg\" alt=\"Open In Colab\"/></a>"
      ]
    },
    {
      "cell_type": "markdown",
      "metadata": {
        "id": "RSXo1_3ZupSs"
      },
      "source": [
        "## Setting thing up"
      ]
    },
    {
      "cell_type": "code",
      "metadata": {
        "id": "p_CI7nQ4rDNK"
      },
      "source": [
        "Download m2_data_csv"
      ],
      "execution_count": null,
      "outputs": []
    },
    {
      "cell_type": "markdown",
      "metadata": {
        "id": "0-vFAB8Kvb_v"
      },
      "source": [
        "## Understanding the data set"
      ]
    },
    {
      "cell_type": "markdown",
      "metadata": {
        "id": "ZY8iBpe-vcBG"
      },
      "source": [
        "## Prep program"
      ]
    },
    {
      "cell_type": "markdown",
      "metadata": {
        "id": "6-i_9sd0v12n"
      },
      "source": [
        "## Load and pre-process the data"
      ]
    },
    {
      "cell_type": "markdown",
      "metadata": {
        "id": "lE5irGDrwAuI"
      },
      "source": [
        "## Create training and testing sets\n",
        "\n",
        "\n"
      ]
    },
    {
      "cell_type": "markdown",
      "metadata": {
        "id": "OPjI5kfewIUY"
      },
      "source": [
        "## Define the model"
      ]
    },
    {
      "cell_type": "markdown",
      "metadata": {
        "id": "-4nP-hd8wPsQ"
      },
      "source": [
        "## Train the model"
      ]
    },
    {
      "cell_type": "markdown",
      "metadata": {
        "id": "vvZP6hl3wPuA"
      },
      "source": [
        "## Test the model"
      ]
    }
  ]
}